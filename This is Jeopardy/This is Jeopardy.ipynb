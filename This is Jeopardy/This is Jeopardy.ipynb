{
 "cells": [
  {
   "cell_type": "markdown",
   "metadata": {},
   "source": [
    "# This is Jeopardy!"
   ]
  },
  {
   "cell_type": "markdown",
   "metadata": {},
   "source": [
    "#### Overview"
   ]
  },
  {
   "cell_type": "markdown",
   "metadata": {},
   "source": [
    "This project is slightly different than others you have encountered thus far. Instead of a step-by-step tutorial, this project contains a series of open-ended requirements which describe the project you'll be building. There are many possible ways to correctly fulfill all of these requirements, and you should expect to use the internet, Codecademy, and/or other resources when you encounter a problem that you cannot easily solve."
   ]
  },
  {
   "cell_type": "markdown",
   "metadata": {},
   "source": [
    "#### Project Goals"
   ]
  },
  {
   "cell_type": "markdown",
   "metadata": {},
   "source": [
    "You will work to write several functions that investigate a dataset of _Jeopardy!_ questions and answers. Filter the dataset for topics that you're interested in, compute the average difficulty of those questions, and train to become the next Jeopardy champion!"
   ]
  },
  {
   "cell_type": "markdown",
   "metadata": {},
   "source": [
    "## Prerequisites"
   ]
  },
  {
   "cell_type": "markdown",
   "metadata": {},
   "source": [
    "In order to complete this project, you should have completed the Pandas lessons in the <a href=\"https://www.codecademy.com/learn/paths/analyze-data-with-python\">Analyze Data with Python Skill Path</a>. You can also find those lessons in the <a href=\"https://www.codecademy.com/learn/data-processing-pandas\">Data Analysis with Pandas course</a> or the <a href=\"https://www.codecademy.com/learn/paths/data-science/\">Data Scientist Career Path</a>.\n",
    "\n",
    "Finally, the <a href=\"https://www.codecademy.com/learn/practical-data-cleaning\">Practical Data Cleaning</a> course may also be helpful."
   ]
  },
  {
   "cell_type": "markdown",
   "metadata": {},
   "source": [
    "## Project Requirements"
   ]
  },
  {
   "cell_type": "markdown",
   "metadata": {},
   "source": [
    "1. We've provided a csv file containing data about the game show _Jeopardy!_ in a file named `jeopardy.csv`. Load the data into a DataFrame and investigate its contents. Try to print out specific columns.\n",
    "\n",
    "   Note that in order to make this project as \"real-world\" as possible, we haven't modified the data at all - we're giving it to you exactly how we found it. As a result, this data isn't as \"clean\" as the datasets you normally find on Codecademy. More specifically, there's something odd about the column names. After you figure out the problem with the column names, you may want to rename them to make your life easier for the rest of the project.\n",
    "   \n",
    "   In order to display the full contents of a column, we've added this line of code for you:\n",
    "   \n",
    "   ```py\n",
    "   pd.set_option('display.max_colwidth', None)\n",
    "   ```"
   ]
  },
  {
   "cell_type": "code",
   "execution_count": 2,
   "metadata": {},
   "outputs": [
    {
     "name": "stdout",
     "output_type": "stream",
     "text": [
      "   show_number    air_date round_type                         category value  \\\n",
      "0         4680  2004-12-31  Jeopardy!                          HISTORY  $200   \n",
      "1         4680  2004-12-31  Jeopardy!  ESPN's TOP 10 ALL-TIME ATHLETES  $200   \n",
      "2         4680  2004-12-31  Jeopardy!      EVERYBODY TALKS ABOUT IT...  $200   \n",
      "\n",
      "                                                                                                      question  \\\n",
      "0             For the last 8 years of his life, Galileo was under house arrest for espousing this man's theory   \n",
      "1  No. 2: 1912 Olympian; football star at Carlisle Indian School; 6 MLB seasons with the Reds, Giants & Braves   \n",
      "2                     The city of Yuma in this state has a record average of 4,055 hours of sunshine each year   \n",
      "\n",
      "       answer  \n",
      "0  Copernicus  \n",
      "1  Jim Thorpe  \n",
      "2     Arizona  \n"
     ]
    }
   ],
   "source": [
    "import pandas as pd\n",
    "pd.set_option('display.max_colwidth', None)\n",
    "\n",
    "jeopardy_data = pd.read_csv('jeopardy.csv')\n",
    "jeopardy_data.columns = ['show_number', 'air_date', 'round_type', 'category', 'value', 'question', 'answer']\n",
    "print(jeopardy_data.head(3))"
   ]
  },
  {
   "cell_type": "markdown",
   "metadata": {},
   "source": [
    "2. Write a function that filters the dataset for questions that contains all of the words in a list of words. For example, when the list `[\"King\", \"England\"]` was passed to our function, the function returned a DataFrame of 49 rows. Every row had the strings `\"King\"` and `\"England\"` somewhere in its `\" Question\"`.\n",
    "\n",
    "   Test your function by printing out the column containing the question of each row of the dataset."
   ]
  },
  {
   "cell_type": "code",
   "execution_count": 11,
   "metadata": {},
   "outputs": [
    {
     "name": "stdout",
     "output_type": "stream",
     "text": [
      "74\n",
      "<class 'pandas.core.frame.DataFrame'>\n",
      "Index: 74 entries, 6337 to 216021\n",
      "Data columns (total 7 columns):\n",
      " #   Column       Non-Null Count  Dtype \n",
      "---  ------       --------------  ----- \n",
      " 0   show_number  74 non-null     int64 \n",
      " 1   air_date     74 non-null     object\n",
      " 2   round_type   74 non-null     object\n",
      " 3   category     74 non-null     object\n",
      " 4   value        74 non-null     object\n",
      " 5   question     74 non-null     object\n",
      " 6   answer       74 non-null     object\n",
      "dtypes: int64(1), object(6)\n",
      "memory usage: 4.6+ KB\n",
      "None\n"
     ]
    }
   ],
   "source": [
    "def find_word(word, string):\n",
    "    split_string = string.lower().split()\n",
    "    return word.lower() in split_string\n",
    "\n",
    "def question_with_word(word, questions_list):\n",
    "    # return jeopardy_data.question.isin(list(word))\n",
    "    # return questions_list.apply(lambda question: word in question)\n",
    "    return questions_list.apply(lambda question: find_word(word, question))\n",
    "    \n",
    "# def question_with_word(word, words_filter):\n",
    "#     return jeopardy_data[words_filter].question.apply(lambda question: word in question)\n",
    "\n",
    "def question_filter_by_words(list_words):\n",
    "    # questions_with_words\n",
    "    words_filter = pd.Series()\n",
    "    if type(list_words) is str:\n",
    "        words_filter = question_with_word(list_words, jeopardy_data.question)\n",
    "        # with_words_filter = question_with_word(list_words, with_words_filter)\n",
    "    else:\n",
    "        for word in list_words:\n",
    "            # print(\"word: \" + word)\n",
    "            # print(\"filter lenght: {} --> filter {}\".format(len(words_filter[words_filter]), words_filter[words_filter].index))\n",
    "            ### words_filter = question_with_word(word, jeopardy_data.iloc[words_filter[words_filter].index].question)\n",
    "            if len(words_filter[words_filter]) == 0:\n",
    "                words_filter = question_with_word(word, jeopardy_data.question)\n",
    "            else:\n",
    "                words_filter = question_with_word(word, jeopardy_data[words_filter].question)\n",
    "    # return words_filter   # returns only the filter to be used in the future\n",
    "    return jeopardy_data.iloc[words_filter[words_filter].index] # returns a dataframe with the filter applied\n",
    "\n",
    "# filter1 = jeopardy_data.question.apply(lambda x: 'England' in x)\n",
    "# print(filter1[filter1].index)\n",
    "# # print(jeopardy_data[filter1].question)\n",
    "# # filter2 = jeopardy_data.question.apply(lambda jp_question: print(jp_question)) #'King' in jp_question[filter1])\n",
    "# filter2 = jeopardy_data[filter1].question.apply(lambda question: 'King' in question)\n",
    "# print(filter2[filter2].index)\n",
    "# print(jeopardy_data.iloc[filter2[filter2].index].question)\n",
    "# # print(len(jeopardy_data[filter2].question))\n",
    "\n",
    "# filter1 = question_filter_by_words(['King', 'England'])\n",
    "# print(len(filter1[filter1]))\n",
    "# print(jeopardy_data.iloc[filter1[filter1].index].question)\n",
    "king_england = question_filter_by_words(['King', 'England'])\n",
    "print(len(king_england))\n",
    "print(king_england.info())"
   ]
  },
  {
   "cell_type": "markdown",
   "metadata": {},
   "source": [
    "3. Test your original function with a few different sets of words to try to find some ways your function breaks. Edit your function so it is more robust.\n",
    "\n",
    "   For example, think about capitalization. We probably want to find questions that contain the word `\"King\"` or `\"king\"`.\n",
    "   \n",
    "   You may also want to check to make sure you don't find rows that contain substrings of your given words. For example, our function found a question that didn't contain the word `\"king\"`, however it did contain the word `\"viking\"` &mdash; it found the `\"king\"` inside `\"viking\"`. Note that this also comes with some drawbacks &mdash; you would no longer find questions that contained words like `\"England's\"`."
   ]
  },
  {
   "cell_type": "code",
   "execution_count": 3,
   "metadata": {},
   "outputs": [
    {
     "name": "stdout",
     "output_type": "stream",
     "text": [
      "        show_number    air_date        round_type             category  value  \\\n",
      "209862         1164  1989-09-28  Double Jeopardy!  THE QUEEN'S ENGLISH   $200   \n",
      "212338         1247  1990-01-23         Jeopardy!       \"BLACK\" MOVIES   $300   \n",
      "212419         3376  1999-04-19  Double Jeopardy!    CHARLES IN CHARGE   $400   \n",
      "212807         1195  1989-11-10         Jeopardy!               QUOTES   $200   \n",
      "214050         6011  2010-11-01  Double Jeopardy!      \"NEW\" GEOGRAPHY  $1600   \n",
      "\n",
      "                                                                                                question  \\\n",
      "209862  England's monetary system no longer uses the penny; the smallest denomination is now called this   \n",
      "212338            This 1929 Hitchcock movie, his & England's 1st talkie, was shot originally as a silent   \n",
      "212419  England's Charles I dismissed it in 1629, ruled without it for 11 years, then called a short one   \n",
      "212807   England's James I called it \"Hateful to the nose, harmful to the brain, dangerous to the lungs\"   \n",
      "214050                                           This shipbuilding city is found on England's Tyne river   \n",
      "\n",
      "            answer  \n",
      "209862   New Pence  \n",
      "212338   Blackmail  \n",
      "212419  Parliament  \n",
      "212807     Tobacco  \n",
      "214050   Newcastle  \n"
     ]
    }
   ],
   "source": [
    "# filter1 = question_filter_by_words(['England\\'s'])\n",
    "# print(len(filter1[filter1]))\n",
    "# print(jeopardy_data.iloc[filter1[filter1].index].question)\n",
    "print(question_filter_by_words(['England\\'s']).tail())"
   ]
  },
  {
   "cell_type": "markdown",
   "metadata": {},
   "source": [
    "4. We may want to eventually compute aggregate statistics, like `.mean()` on the `\" Value\"` column. But right now, the values in that column are strings. Convert the`\" Value\"` column to floats. If you'd like to, you can create a new column with float values.\n",
    "\n",
    "   While most of the values in the `\" Value\"` column represent a dollar amount as a string, note that some do not &mdash; these values will need to be handled differently!\n",
    "\n",
    "   Now that you can filter the dataset of question, use your new column that contains the float values of each question to find the \"difficulty\" of certain topics. For example, what is the average value of questions that contain the word `\"King\"`?\n",
    "   \n",
    "   Make sure to use the dataset that contains the float values as the dataset you use in your filtering function."
   ]
  },
  {
   "cell_type": "code",
   "execution_count": 4,
   "metadata": {},
   "outputs": [
    {
     "name": "stdout",
     "output_type": "stream",
     "text": [
      "\n",
      "The average value of questions that contain the word(s) ['King', 'England'] is $836.36\n"
     ]
    }
   ],
   "source": [
    "def convert_str_to_float(value):\n",
    "    if ',' in value:    # discard thousands symbol\n",
    "        value = value.replace(',', '')\n",
    "    elif value == 'no value':\n",
    "        value = 'nan'\n",
    "    return float(value)\n",
    "\n",
    "\n",
    "jeopardy_data['value_float'] = jeopardy_data.value.apply(lambda value: convert_str_to_float(value) if not '$' in value else convert_str_to_float(value[1:]))\n",
    "# print(len(jeopardy_data.value_float))\n",
    "# print(jeopardy_data.value_float.mean())\n",
    "words_to_find = ['King', 'England']\n",
    "word_difficulty = question_filter_by_words(words_to_find)\n",
    "print(\"\\nThe average value of questions that contain the word(s) {} is ${:.2f}\".format(words_to_find, word_difficulty.value_float.mean()))"
   ]
  },
  {
   "cell_type": "markdown",
   "metadata": {},
   "source": [
    "5. Write a function that returns the count of unique answers to all of the questions in a dataset. For example, after filtering the entire dataset to only questions containing the word `\"King\"`, we could then find all of the unique answers to those questions. The answer \"Henry VIII\" appeared 55 times and was the most common answer."
   ]
  },
  {
   "cell_type": "code",
   "execution_count": 5,
   "metadata": {},
   "outputs": [
    {
     "name": "stdout",
     "output_type": "stream",
     "text": [
      "\n",
      "The number of questions with the word(s) \"['King', 'England']\" is 23\n",
      "The number of unique answers to all the questions with the word(s) ['King', 'England'] is 21\n"
     ]
    }
   ],
   "source": [
    "def count_unique_answers(dataframe):\n",
    "    return dataframe.answer.nunique()\n",
    "\n",
    "print(\"\\nThe number of questions with the word(s) \\\"{}\\\" is {}\".format(words_to_find, len(word_difficulty)))\n",
    "print(\"The number of unique answers to all the questions with the word(s) {} is {}\".format(words_to_find, count_unique_answers(word_difficulty)))"
   ]
  },
  {
   "cell_type": "markdown",
   "metadata": {},
   "source": [
    "6. Explore from here! This is an incredibly rich dataset, and there are so many interesting things to discover. There are a few columns that we haven't even started looking at yet. Here are some ideas on ways to continue working with this data:\n",
    "\n",
    " * Investigate the ways in which questions change over time by filtering by the date. How many questions from the 90s use the word `\"Computer\"` compared to questions from the 2000s?\n",
    " * Is there a connection between the round and the category? Are you more likely to find certain categories, like `\"Literature\"` in Single Jeopardy or Double Jeopardy?\n",
    " * Build a system to quiz yourself. Grab random questions, and use the <a href=\"https://docs.python.org/3/library/functions.html#input\">input</a> function to get a response from the user. Check to see if that response was right or wrong."
   ]
  },
  {
   "cell_type": "code",
   "execution_count": 6,
   "metadata": {},
   "outputs": [
    {
     "name": "stdout",
     "output_type": "stream",
     "text": [
      "The number of questions with the word(s) \"['King', 'England']\" in the period (1990, 2000) is 9\n",
      "\n",
      "Within a Jeopardy! the category QUOTES is 6.05% likely to appear (zoomed x100)\n",
      "Within a Double Jeopardy! the category QUOTES is 5.19% likely to appear (zoomed x100)\n",
      "Within a Final Jeopardy! the category QUOTES is 0.00% likely to appear (zoomed x100)\n",
      "Within a Tiebreaker the category QUOTES is 0.00% likely to appear (zoomed x100)\n",
      "\n",
      "Within the \"Jeopardy!\" round with 15155 categories, the TOP 5 categories are:\n",
      "              category  questions_count\n",
      "282     STUPID ANSWERS              255\n",
      "566          POTPOURRI              255\n",
      "237             SPORTS              253\n",
      "1278           ANIMALS              233\n",
      "196   AMERICAN HISTORY              227\n",
      "\n",
      "Within the \"Double Jeopardy!\" round with 14576 categories, the TOP 5 categories are:\n",
      "             category  questions_count\n",
      "347    BEFORE & AFTER              450\n",
      "248        LITERATURE              381\n",
      "26            SCIENCE              296\n",
      "68    WORLD GEOGRAPHY              254\n",
      "1090            OPERA              250\n",
      "\n",
      "Within the \"Final Jeopardy!\" round with 1952 categories, the TOP 5 categories are:\n",
      "            category  questions_count\n",
      "97   U.S. PRESIDENTS               50\n",
      "92      WORD ORIGINS               34\n",
      "190   STATE CAPITALS               31\n",
      "73           AUTHORS               27\n",
      "59     WORLD LEADERS               26\n",
      "\n",
      "Within the \"Tiebreaker\" round with 3 categories, the TOP 5 categories are:\n",
      "                  category  questions_count\n",
      "0             CHILD'S PLAY                1\n",
      "1  THE AMERICAN REVOLUTION                1\n",
      "2      LITERARY CHARACTERS                1\n"
     ]
    }
   ],
   "source": [
    "def count_questions_by_words_and_time_period(word, period):  # period is a year tuple (from year, to year_excluded)\n",
    "    filtered_by_word = question_filter_by_words(word)\n",
    "    years_air_date_filtered_by_word = filtered_by_word[\n",
    "        (filtered_by_word.air_date >= str(period[0])) & (filtered_by_word.air_date < str(period[1]))]\n",
    "    # years_air_date_filtered_by_word = pd.DatetimeIndex(filtered_by_word.air_date).year\n",
    "    # print(years_air_date_filtered_by_word.sort_values())\n",
    "    # years_air_date_filtered_by_word.apply(lambda date: (date >= period[0]) & (date < period[1]))\n",
    "    return len(years_air_date_filtered_by_word)\n",
    "\n",
    "# print(count_questions_by_word_and_time_period(\"King\", (1990,2000)))\n",
    "period_of_time = (1990, 2000)\n",
    "print(\"The number of questions with the word(s) \\\"{}\\\" in the period {} is {}\"\n",
    "      .format(words_to_find, period_of_time, count_questions_by_words_and_time_period(words_to_find, period_of_time)))\n",
    "\n",
    "\n",
    "def probability_category_per_round(category):\n",
    "    for round_name in round_names:\n",
    "        len_filtered_by_round_category = len(jeopardy_data[(jeopardy_data.round_type == round_name) & (jeopardy_data.category == category)])\n",
    "        # print(len_filtered_by_round_category)\n",
    "        print(\"Within a {} the category {} is {:.2f}% likely to appear (zoomed x100)\"\n",
    "            .format(round_name, category,\n",
    "                    len_filtered_by_round_category / len(jeopardy_data[jeopardy_data.round_type == round_name]) * 100 * 100\n",
    "            ))\n",
    "# print(jeopardy_data[jeopardy_data.round_type.str.contains(\"Double Jeopardy!\")])\n",
    "round_names = jeopardy_data.round_type.unique()\n",
    "category_names = jeopardy_data.category.unique()\n",
    "# print(len(category_names))\n",
    "\n",
    "print()\n",
    "# for round_type in round_names:\n",
    "probability_category_per_round(\"QUOTES\")\n",
    "\n",
    "\n",
    "#### List the TOP 5 categories by round\n",
    "## (takes a bit of time to process)\n",
    "\n",
    "# print(round_names)\n",
    "# round_type_rows = jeopardy_data[jeopardy_data.round_type == \"Tiebreaker\"]\n",
    "# print(round_type_rows)\n",
    "# list_round_categories = pd.DataFrame({'category': round_type_rows.category.unique()})\n",
    "# list_round_categories['questions_count'] = list_round_categories.category.apply(lambda category: round_type_rows.category[round_type_rows.category == category].count())\n",
    "# print(round_type_rows.category[round_type_rows.category == 'LITERARY CHARACTERS'])\n",
    "# print(list_categories)\n",
    "\n",
    "for round_type in round_names:\n",
    "# for round_type in ['Final Jeopardy!', 'Tiebreaker']:\n",
    "# round_type = 'Jeopardy!'\n",
    "# if round_type == 'Jeopardy!':\n",
    "    round_type_rows = jeopardy_data[jeopardy_data.round_type == round_type]\n",
    "    # print(len(round_type_rows))\n",
    "    list_round_categories = pd.DataFrame({'category': round_type_rows.category.unique()})\n",
    "    # print(len(list_round_categories))\n",
    "\n",
    "    list_round_categories['questions_count'] = list_round_categories.category.apply(lambda category: round_type_rows.category[round_type_rows.category == category].count())\n",
    "    list_round_categories.sort_values(by='questions_count', ascending=False, inplace=True)\n",
    "    print(\"\\nWithin the \\\"{round_type}\\\" round with {num_categories} categories, the TOP 5 categories are:\\n{list_cat}\"\n",
    "          .format(round_type=round_type, num_categories=len(list_round_categories), list_cat=list_round_categories.head()))\n",
    "    \n",
    "    del round_type_rows\n",
    "    del list_round_categories\n"
   ]
  },
  {
   "cell_type": "markdown",
   "metadata": {},
   "source": [
    "## Solution"
   ]
  },
  {
   "cell_type": "markdown",
   "metadata": {},
   "source": [
    "7. Compare your program to our <a href=\"https://content.codecademy.com/PRO/independent-practice-projects/jeopardy/jeopardy_solution.zip\">sample solution code</a> - remember, that your program might look different from ours (and probably will) and that's okay!"
   ]
  },
  {
   "cell_type": "markdown",
   "metadata": {},
   "source": [
    "8. Great work! Visit <a href=\"https://discuss.codecademy.com/t/this-is-jeopardy-challenge-project-python-pandas/462365\">our forums</a> to compare your project to our sample solution code. You can also learn how to host your own solution on GitHub so you can share it with other learners! Your solution might look different from ours, and that's okay! There are multiple ways to solve these projects, and you'll learn more by seeing others' code."
   ]
  },
  {
   "cell_type": "code",
   "execution_count": null,
   "metadata": {},
   "outputs": [],
   "source": []
  }
 ],
 "metadata": {
  "kernelspec": {
   "display_name": "base",
   "language": "python",
   "name": "python3"
  },
  "language_info": {
   "codemirror_mode": {
    "name": "ipython",
    "version": 3
   },
   "file_extension": ".py",
   "mimetype": "text/x-python",
   "name": "python",
   "nbconvert_exporter": "python",
   "pygments_lexer": "ipython3",
   "version": "3.10.10"
  }
 },
 "nbformat": 4,
 "nbformat_minor": 2
}
